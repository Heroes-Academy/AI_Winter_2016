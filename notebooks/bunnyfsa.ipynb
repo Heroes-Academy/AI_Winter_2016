{
 "cells": [
  {
   "cell_type": "markdown",
   "metadata": {},
   "source": [
    "## Finite State Automata\n",
    "\n",
    "Finite State Automata are state machines. They exist in some state until some percept (input) comes along to trigger them to move to another state.  As we saw with the locking mechanism, the correct number transitions the state to the next state.  The incorrect number resets it back to the beginning. \n",
    "\n",
    "The goal of this exercise is to model a state machine.  This means defining a couple states (3-4 hopefully) and the transitions between them.  Then, you should have a function which should handle these transitions.  Finally, you should test the transitions with a series of percepts/inputs.  I have demonstrated below with a Bunny FSA\n",
    "\n",
    "### Bunny FSA\n",
    "First, I plan out my Bunny FSA.  \n",
    "\n",
    "#### What are the states\n",
    "- state1 -> bunny is hungry\n",
    "- state2 -> bunny is content\n",
    "- state3 -> bunny is destroying\n",
    "\n",
    "#### What are the transitions between the states\n",
    "- state1 -> state2 when fed\n",
    "- state2 -> state3 when ignored\n",
    "- state3 -> state2 when spoiled\n",
    "- state2 -> state1 when time passes"
   ]
  },
  {
   "cell_type": "code",
   "execution_count": 7,
   "metadata": {
    "collapsed": true
   },
   "outputs": [],
   "source": [
    "class Bunny:\n",
    "    def __init__(self):\n",
    "        self.hungry = False\n",
    "        self.angry = False\n",
    "\n",
    "    def feed(self):\n",
    "        self.hungry = False\n",
    "    \n",
    "    def time_passes(self):\n",
    "        self.hungry = True\n",
    "        self.angry = False\n",
    "    \n",
    "    def get_angry(self):\n",
    "        self.angry = True\n",
    "    \n",
    "    def get_spoiled(self):\n",
    "        self.angry = False\n",
    "    \n",
    "    def user_perceive(self):\n",
    "        something = input(\"Give me a percept: \")\n",
    "        self.perceive(something)\n",
    "    \n",
    "    def fancy_perceive(self, percept, x=8):\n",
    "        all_funcs = {\"feed\": self.feed,\n",
    "                     \"time\": self.time_passes}\n",
    "    \n",
    "        \n",
    "    \n",
    "    def perceive(self, percept):\n",
    "        \"\"\" see the world, change the state \"\"\"\n",
    "        print(\"Euclid is experiencing {}\".format(percept))\n",
    "        if percept == \"feed\":\n",
    "            self.feed()\n",
    "        elif percept == \"time\":\n",
    "            self.time_passes()\n",
    "        elif percept == \"ignore\":\n",
    "            self.get_angry()\n",
    "        elif percept == \"spoiled\":\n",
    "            self.get_spoiled()\n",
    "        else:\n",
    "            raise NotImplementedError\n",
    "        \n",
    "            \n",
    "    def act(self):\n",
    "        \"\"\" see the state, change the world \"\"\"\n",
    "        pass\n",
    "\n",
    "    \n",
    "    def get_state(self):\n",
    "        if self.hungry:\n",
    "            return \"state1<hungry>\"\n",
    "        elif self.angry:\n",
    "            return \"state3<angry>\"\n",
    "        else:\n",
    "            return \"state2<content>\"\n",
    "    \n",
    "    def report(self):\n",
    "        print(\"Euclid is {}\".format(self.get_state()))"
   ]
  },
  {
   "cell_type": "code",
   "execution_count": 11,
   "metadata": {
    "collapsed": false
   },
   "outputs": [
    {
     "name": "stdout",
     "output_type": "stream",
     "text": [
      "Initial state\n",
      "Euclid is state2<content>\n",
      "     ~-~-~-~-~-~-~-~-~-~-     \n",
      "Euclid is experiencing time\n",
      "Euclid is state1<hungry>\n",
      "     ~-~-~-~-~-~-~-~-~-~-     \n",
      "Euclid is experiencing time\n",
      "Euclid is state1<hungry>\n",
      "     ~-~-~-~-~-~-~-~-~-~-     \n",
      "Euclid is experiencing ignore\n",
      "Euclid is state1<hungry>\n",
      "     ~-~-~-~-~-~-~-~-~-~-     \n",
      "Euclid is experiencing feed\n",
      "Euclid is state3<angry>\n",
      "     ~-~-~-~-~-~-~-~-~-~-     \n",
      "Euclid is experiencing spoiled\n",
      "Euclid is state2<content>\n"
     ]
    }
   ],
   "source": [
    "euclid = Bunny()\n",
    "kitchendoor = Door()\n",
    "print(\"Initial state\")\n",
    "euclid.report()\n",
    "percept1 = {\"type\": \"sound\", \"values\": []}\n",
    "percepts = ['time', 'time', 'ignore', 'feed', 'spoiled']\n",
    "for percept in percepts:\n",
    "    print(\"{:^30}\".format(\"~-\"*10))\n",
    "    euclid.perceive(percept)\n",
    "    euclid.report()"
   ]
  }
 ],
 "metadata": {
  "kernelspec": {
   "display_name": "Python 2",
   "language": "python",
   "name": "python2"
  },
  "language_info": {
   "codemirror_mode": {
    "name": "ipython",
    "version": 2
   },
   "file_extension": ".py",
   "mimetype": "text/x-python",
   "name": "python",
   "nbconvert_exporter": "python",
   "pygments_lexer": "ipython2",
   "version": "2.7.11"
  }
 },
 "nbformat": 4,
 "nbformat_minor": 0
}
